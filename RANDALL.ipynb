{
 "cells": [
  {
   "cell_type": "code",
   "execution_count": 11,
   "metadata": {},
   "outputs": [
    {
     "name": "stdout",
     "output_type": "stream",
     "text": [
      "Chill Game Recommendation:\n",
      "GAME: Farming Simulator\n",
      "\n",
      "Non-Chill Game Recommendation:\n",
      "GAME: Fallout 3\n"
     ]
    }
   ],
   "source": [
    "import pandas\n",
    "import warnings\n",
    "\n",
    "warnings.filterwarnings('ignore', category=UserWarning, module='openpyxl')\n",
    "pandas.set_option(\"display.max_rows\", 100)\n",
    "\n",
    "ongoing = pandas.read_excel(\"GamesBacklog.xlsx\",sheet_name=\"Ongoing\")\n",
    "df = pandas.read_excel(\"GamesBacklog.xlsx\",sheet_name=\"Data\")\n",
    "\n",
    "# Removing ongoing game(s) from list of backlog\n",
    "df = df[~df['GAME'].isin(ongoing['ONGOING GAME'])]\n",
    "\n",
    "col_list = ['GAME','EST. LENGTH (hrs)','EXCITEMENT','Chill or No?']\n",
    "df = df[col_list]\n",
    "\n",
    "chill_games = df[df['Chill or No?'] == 1]\n",
    "non_chill_games = df[df['Chill or No?'] == 0]\n",
    "\n",
    "excitement_weights = {\"Peak\": 0.5,\n",
    "                      \"High\": 0.3,\n",
    "                      \"Medium\": 0.15,\n",
    "                      \"Low\": 0.05 }\n",
    "\n",
    "def weighted_selection(df, weights):\n",
    "    excitement_levels = df[\"EXCITEMENT\"].map(weights)\n",
    "    total_weight = excitement_levels.sum()\n",
    "    probabilities = excitement_levels / total_weight\n",
    "    return df.sample(n=1, weights=probabilities)\n",
    "\n",
    "selected_chill_game = weighted_selection(chill_games, excitement_weights)\n",
    "selected_non_chill_game = weighted_selection(non_chill_games, excitement_weights)\n",
    "\n",
    "print(\"Chill Game Recommendation:\")\n",
    "print(f\"GAME: {selected_chill_game.iloc[0]['GAME']}\")\n",
    "\n",
    "print(\"\\nNon-Chill Game Recommendation:\")\n",
    "print(f\"GAME: {selected_non_chill_game.iloc[0]['GAME']}\")"
   ]
  }
 ],
 "metadata": {
  "kernelspec": {
   "display_name": "base",
   "language": "python",
   "name": "python3"
  },
  "language_info": {
   "codemirror_mode": {
    "name": "ipython",
    "version": 3
   },
   "file_extension": ".py",
   "mimetype": "text/x-python",
   "name": "python",
   "nbconvert_exporter": "python",
   "pygments_lexer": "ipython3",
   "version": "3.11.9"
  }
 },
 "nbformat": 4,
 "nbformat_minor": 2
}
